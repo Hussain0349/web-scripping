import requests
from bs4 import BeautifulSoup
import pandas as pd

# Step 1: Define the URL of the main page
url = 'https://www.zameen.com/Homes/Islamabad_DHA_Defence-3188-1.html'

# Step 2: Send a request to the main webpage and parse the HTML content
req = requests.get(url)
soup = BeautifulSoup(req.content, 'html.parser')

# Step 3: Find all the property links
links = soup.find_all('a', class_='d870ae17')
cards_links = []
for link in links:
    cards_links.append(link['href'])

# Step 4: Combine the property links with the base domain
final_links = []
base_domain = 'https://www.zameen.com'
for linked in cards_links:
    full_url = base_domain + linked
    final_links.append(full_url)

# Step 5: Create an empty list to hold all property information
all_properties = []

# Step 6: Loop through each property link and scrape the required data
for link in final_links:
    req = requests.get(link)
    soup = BeautifulSoup(req.content, 'html.parser')

    # Find the list of properties (ul tags with class '_3dc8d08d')
    soup_ul = soup.find_all('ul', class_='_3dc8d08d')

    for ul in soup_ul:
        lis = ul.find_all('li')

        # Create a dictionary to store the extracted information
        property_info = {}

        # Loop through each list item (li) to find specific spans and extract their values
        for li in lis:
            label = li.find('span', class_='ed0db22a')  # Label like "Type", "Price", etc.
            value = li.find('span', class_='_2fdf7fc5')  # Corresponding value

            if label and value:
                key = label.text.strip()

                # Special handling for prices and nested values
                if key in ["Price", "Initial Amount", "Monthly Installment"]:
                    price_div = value.find('div', class_='_2923a568')
                    if price_div:
                        value = price_div.text.strip()
                else:
                    value = value.text.strip()

                # Store the information in the dictionary
                property_info[key] = value

        # Add the collected property info to the list
        all_properties.append(property_info)

# Step 7: Convert the list of dictionaries to a DataFrame
df = pd.DataFrame(all_properties)

# Step 8: Select only the keys of interest
# keys_of_interest = ["Type", "Area", "Price", "Purpose", "Location", "Bedroom(s)", "Bath(s)", "Added"]
# df_filtered = df[keys_of_interest]

# Step 9: Output the final DataFrame
df.to_csv('dha.csv')
